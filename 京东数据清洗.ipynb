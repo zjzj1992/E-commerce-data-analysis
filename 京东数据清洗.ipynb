{
 "cells": [
  {
   "cell_type": "code",
   "execution_count": 1,
   "metadata": {},
   "outputs": [],
   "source": [
    "import pandas as pd\n",
    "import numpy as np\n",
    "import warnings\n",
    "warnings.filterwarnings(action=\"ignore\")\n",
    "warnings.filterwarnings(\"ignore\")"
   ]
  },
  {
   "cell_type": "code",
   "execution_count": 2,
   "metadata": {},
   "outputs": [],
   "source": [
    "data = pd.read_excel(\"C:/Users/zhang/Desktop/羽绒服女-京东.xlsx\")"
   ]
  },
  {
   "cell_type": "code",
   "execution_count": 3,
   "metadata": {},
   "outputs": [
    {
     "data": {
      "text/html": [
       "<div>\n",
       "<style scoped>\n",
       "    .dataframe tbody tr th:only-of-type {\n",
       "        vertical-align: middle;\n",
       "    }\n",
       "\n",
       "    .dataframe tbody tr th {\n",
       "        vertical-align: top;\n",
       "    }\n",
       "\n",
       "    .dataframe thead th {\n",
       "        text-align: right;\n",
       "    }\n",
       "</style>\n",
       "<table border=\"1\" class=\"dataframe\">\n",
       "  <thead>\n",
       "    <tr style=\"text-align: right;\">\n",
       "      <th></th>\n",
       "      <th>标题</th>\n",
       "      <th>评价数</th>\n",
       "      <th>商品产地</th>\n",
       "      <th>穿着领型1</th>\n",
       "      <th>穿着领型2</th>\n",
       "      <th>字段4</th>\n",
       "      <th>字段5</th>\n",
       "      <th>字段6</th>\n",
       "      <th>字段7</th>\n",
       "      <th>字段8</th>\n",
       "      <th>...</th>\n",
       "      <th>字段10</th>\n",
       "      <th>字段11</th>\n",
       "      <th>字段12</th>\n",
       "      <th>字段13</th>\n",
       "      <th>字段14</th>\n",
       "      <th>字段15</th>\n",
       "      <th>字段16</th>\n",
       "      <th>字段17</th>\n",
       "      <th>字段18</th>\n",
       "      <th>字段19</th>\n",
       "    </tr>\n",
       "  </thead>\n",
       "  <tbody>\n",
       "    <tr>\n",
       "      <th>0</th>\n",
       "      <td>雪中飞羽绒服女2019新款修身显瘦长款过膝年轻加绒加厚时尚大狐狸毛领保暖防寒外套百搭女装 卡...</td>\n",
       "      <td>10+条评价</td>\n",
       "      <td>商品产地：中国大陆</td>\n",
       "      <td>领型：连帽</td>\n",
       "      <td>领型：连帽</td>\n",
       "      <td>图案：纯色</td>\n",
       "      <td>流行元素：口袋，毛领，带帽，拉链</td>\n",
       "      <td>衣领材质：狐狸毛</td>\n",
       "      <td>NaN</td>\n",
       "      <td>穿着：常规</td>\n",
       "      <td>...</td>\n",
       "      <td>充绒量：100g（含）-150g（不含）</td>\n",
       "      <td>衣门襟：拉链</td>\n",
       "      <td>版型：修身型</td>\n",
       "      <td>袖长：长袖</td>\n",
       "      <td>衣长：长款</td>\n",
       "      <td>材质：聚酯纤维</td>\n",
       "      <td>风格：韩版，街头，街拍，甜美，简约</td>\n",
       "      <td>上市时间：2019年冬季</td>\n",
       "      <td>袖型：常规袖</td>\n",
       "      <td>779.00</td>\n",
       "    </tr>\n",
       "    <tr>\n",
       "      <th>1</th>\n",
       "      <td>薇薇麦诗 短款羽绒服女加厚貉子大毛领2019冬季新品女装刺绣小个子长袖韩版时尚宽松羽绒服外套...</td>\n",
       "      <td>100+条评价</td>\n",
       "      <td>商品产地：中国大陆</td>\n",
       "      <td>领型：连帽</td>\n",
       "      <td>领型：连帽</td>\n",
       "      <td>图案：其它</td>\n",
       "      <td>流行元素：拉链，拼接，其它</td>\n",
       "      <td>袖型：常规袖</td>\n",
       "      <td>上市时间：2019年秋季</td>\n",
       "      <td>穿着：常规</td>\n",
       "      <td>...</td>\n",
       "      <td>充绒量：100g（含）-150g（不含）</td>\n",
       "      <td>衣领材质：貉子毛</td>\n",
       "      <td>衣门襟：拉链</td>\n",
       "      <td>面料：记忆面料</td>\n",
       "      <td>版型：宽松型</td>\n",
       "      <td>材质：聚酯纤维</td>\n",
       "      <td>风格：韩版，百搭，简约</td>\n",
       "      <td>衣长：短款</td>\n",
       "      <td>袖长：长袖</td>\n",
       "      <td>598.00</td>\n",
       "    </tr>\n",
       "    <tr>\n",
       "      <th>2</th>\n",
       "      <td>雪中飞 羽绒服中长款女2019秋冬上新毛领连帽休闲保暖外套 白色 165/88A(M)</td>\n",
       "      <td>200+条评价</td>\n",
       "      <td>商品产地：中国大陆</td>\n",
       "      <td>衣长：中长款</td>\n",
       "      <td>衣长：中长款</td>\n",
       "      <td>充绒量：150g（含）-200g（不含）</td>\n",
       "      <td>适用年龄：18-24周岁</td>\n",
       "      <td>袖长：长袖</td>\n",
       "      <td>NaN</td>\n",
       "      <td>厚度：常规</td>\n",
       "      <td>...</td>\n",
       "      <td>风格：港风，百搭，街拍，简约</td>\n",
       "      <td>上市时间：2019年秋季</td>\n",
       "      <td>NaN</td>\n",
       "      <td>版型：宽松型</td>\n",
       "      <td>材质：聚酯纤维</td>\n",
       "      <td>领型：连帽</td>\n",
       "      <td>含绒量：90%以上</td>\n",
       "      <td>NaN</td>\n",
       "      <td>填充物：白鸭绒</td>\n",
       "      <td>699.00</td>\n",
       "    </tr>\n",
       "    <tr>\n",
       "      <th>3</th>\n",
       "      <td>凝拉羽绒服女2019冬季新品时尚中长款大码女装韩版大毛领宽松加厚真毛领羽绒外套M2018 黑...</td>\n",
       "      <td>200+条评价</td>\n",
       "      <td>商品产地：中国大陆</td>\n",
       "      <td>领型：连帽</td>\n",
       "      <td>领型：连帽</td>\n",
       "      <td>图案：纯色</td>\n",
       "      <td>流行元素：羽毛，毛领</td>\n",
       "      <td>袖型：插肩袖</td>\n",
       "      <td>上市时间：2019年秋季</td>\n",
       "      <td>穿着：常规</td>\n",
       "      <td>...</td>\n",
       "      <td>充绒量：200g（含）-250g（不含）</td>\n",
       "      <td>衣领材质：其它</td>\n",
       "      <td>衣门襟：拉链</td>\n",
       "      <td>面料：记忆面料</td>\n",
       "      <td>版型：宽松型</td>\n",
       "      <td>材质：聚酯纤维</td>\n",
       "      <td>风格：韩版</td>\n",
       "      <td>衣长：中长款</td>\n",
       "      <td>袖长：长袖</td>\n",
       "      <td>399.00</td>\n",
       "    </tr>\n",
       "    <tr>\n",
       "      <th>4</th>\n",
       "      <td>雅鹿新款羽绒服女中长款韩版户外白色羽绒上衣加厚连帽工装外套Y 白色 S</td>\n",
       "      <td>3400+条评价</td>\n",
       "      <td>商品产地：中国大陆</td>\n",
       "      <td>领型：连帽</td>\n",
       "      <td>领型：连帽</td>\n",
       "      <td>图案：纯色</td>\n",
       "      <td>流行元素：口袋，抽绳，带帽</td>\n",
       "      <td>袖型：常规袖</td>\n",
       "      <td>NaN</td>\n",
       "      <td>穿着：常规</td>\n",
       "      <td>...</td>\n",
       "      <td>充绒量：150g（含）-200g（不含）</td>\n",
       "      <td>衣门襟：拉链</td>\n",
       "      <td>版型：直筒型</td>\n",
       "      <td>面料：其它</td>\n",
       "      <td>衣长：中长款</td>\n",
       "      <td>材质：聚酯纤维</td>\n",
       "      <td>风格：街拍，OL</td>\n",
       "      <td>上市时间：2018年冬季</td>\n",
       "      <td>袖长：长袖</td>\n",
       "      <td>798.00</td>\n",
       "    </tr>\n",
       "  </tbody>\n",
       "</table>\n",
       "<p>5 rows × 21 columns</p>\n",
       "</div>"
      ],
      "text/plain": [
       "                                                  标题       评价数       商品产地  \\\n",
       "0  雪中飞羽绒服女2019新款修身显瘦长款过膝年轻加绒加厚时尚大狐狸毛领保暖防寒外套百搭女装 卡...    10+条评价  商品产地：中国大陆   \n",
       "1  薇薇麦诗 短款羽绒服女加厚貉子大毛领2019冬季新品女装刺绣小个子长袖韩版时尚宽松羽绒服外套...   100+条评价  商品产地：中国大陆   \n",
       "2        雪中飞 羽绒服中长款女2019秋冬上新毛领连帽休闲保暖外套 白色 165/88A(M)   200+条评价  商品产地：中国大陆   \n",
       "3  凝拉羽绒服女2019冬季新品时尚中长款大码女装韩版大毛领宽松加厚真毛领羽绒外套M2018 黑...   200+条评价  商品产地：中国大陆   \n",
       "4                雅鹿新款羽绒服女中长款韩版户外白色羽绒上衣加厚连帽工装外套Y 白色 S  3400+条评价  商品产地：中国大陆   \n",
       "\n",
       "    穿着领型1   穿着领型2                   字段4               字段5       字段6  \\\n",
       "0   领型：连帽   领型：连帽                 图案：纯色  流行元素：口袋，毛领，带帽，拉链  衣领材质：狐狸毛   \n",
       "1   领型：连帽   领型：连帽                 图案：其它     流行元素：拉链，拼接，其它    袖型：常规袖   \n",
       "2  衣长：中长款  衣长：中长款  充绒量：150g（含）-200g（不含）      适用年龄：18-24周岁     袖长：长袖   \n",
       "3   领型：连帽   领型：连帽                 图案：纯色        流行元素：羽毛，毛领    袖型：插肩袖   \n",
       "4   领型：连帽   领型：连帽                 图案：纯色     流行元素：口袋，抽绳，带帽    袖型：常规袖   \n",
       "\n",
       "            字段7    字段8  ...                  字段10          字段11    字段12  \\\n",
       "0           NaN  穿着：常规  ...  充绒量：100g（含）-150g（不含）        衣门襟：拉链  版型：修身型   \n",
       "1  上市时间：2019年秋季  穿着：常规  ...  充绒量：100g（含）-150g（不含）      衣领材质：貉子毛  衣门襟：拉链   \n",
       "2           NaN  厚度：常规  ...        风格：港风，百搭，街拍，简约  上市时间：2019年秋季     NaN   \n",
       "3  上市时间：2019年秋季  穿着：常规  ...  充绒量：200g（含）-250g（不含）       衣领材质：其它  衣门襟：拉链   \n",
       "4           NaN  穿着：常规  ...  充绒量：150g（含）-200g（不含）        衣门襟：拉链  版型：直筒型   \n",
       "\n",
       "      字段13     字段14     字段15               字段16          字段17     字段18    字段19  \n",
       "0    袖长：长袖    衣长：长款  材质：聚酯纤维  风格：韩版，街头，街拍，甜美，简约  上市时间：2019年冬季   袖型：常规袖  779.00  \n",
       "1  面料：记忆面料   版型：宽松型  材质：聚酯纤维        风格：韩版，百搭，简约         衣长：短款    袖长：长袖  598.00  \n",
       "2   版型：宽松型  材质：聚酯纤维    领型：连帽          含绒量：90%以上           NaN  填充物：白鸭绒  699.00  \n",
       "3  面料：记忆面料   版型：宽松型  材质：聚酯纤维              风格：韩版        衣长：中长款    袖长：长袖  399.00  \n",
       "4    面料：其它   衣长：中长款  材质：聚酯纤维           风格：街拍，OL  上市时间：2018年冬季    袖长：长袖  798.00  \n",
       "\n",
       "[5 rows x 21 columns]"
      ]
     },
     "execution_count": 3,
     "metadata": {},
     "output_type": "execute_result"
    }
   ],
   "source": [
    "data.head()"
   ]
  },
  {
   "cell_type": "code",
   "execution_count": 4,
   "metadata": {},
   "outputs": [],
   "source": [
    "old_columns = data.columns"
   ]
  },
  {
   "cell_type": "code",
   "execution_count": 5,
   "metadata": {},
   "outputs": [],
   "source": [
    "for column in data.columns:\n",
    "    data[column] = data[column].astype(str)"
   ]
  },
  {
   "cell_type": "code",
   "execution_count": 6,
   "metadata": {},
   "outputs": [],
   "source": [
    "data['产地'] = np.nan\n",
    "\n",
    "for i,v in enumerate(data['商品产地']):\n",
    "    if '商品产地' in v:\n",
    "        index = v.index(\"：\")\n",
    "        mes = v[index+1:]\n",
    "        data['产地'][i] = mes"
   ]
  },
  {
   "cell_type": "code",
   "execution_count": 7,
   "metadata": {},
   "outputs": [],
   "source": [
    "data['穿着'] = np.nan\n",
    "\n",
    "for column in ['穿着领型1','穿着领型2','字段8']:\n",
    "    for i,v in enumerate(data[column]):\n",
    "        if '穿着' in v:\n",
    "            index = v.index(\"：\")\n",
    "            mes = v[index+1:]\n",
    "            data['穿着'][i] = mes"
   ]
  },
  {
   "cell_type": "code",
   "execution_count": 8,
   "metadata": {},
   "outputs": [],
   "source": [
    "data['领型'] = np.nan\n",
    "\n",
    "for column in ['穿着领型2','穿着领型2']:\n",
    "    for i,v in enumerate(data[column]):\n",
    "        if '领型' in v:\n",
    "            index = v.index(\"：\")\n",
    "            mes = v[index+1:]\n",
    "            data['领型'][i] = mes"
   ]
  },
  {
   "cell_type": "code",
   "execution_count": 9,
   "metadata": {},
   "outputs": [],
   "source": [
    "data['充绒量'] = np.nan\n",
    "\n",
    "for column in ['字段5','字段10']:\n",
    "    for i,v in enumerate(data[column]):\n",
    "        if '充绒量' in v:\n",
    "            index = v.index(\"：\")\n",
    "            mes = v[index+1:]\n",
    "            data['充绒量'][i] = mes"
   ]
  },
  {
   "cell_type": "code",
   "execution_count": 10,
   "metadata": {},
   "outputs": [],
   "source": [
    "data['上市时间'] = np.nan\n",
    "\n",
    "for column in ['字段7','字段11','字段12','字段17']:\n",
    "    for i,v in enumerate(data[column]):\n",
    "        if '上市时间' in v:\n",
    "            index = v.index(\"：\")\n",
    "            mes = v[index+1:]\n",
    "            data['上市时间'][i] = mes"
   ]
  },
  {
   "cell_type": "code",
   "execution_count": 11,
   "metadata": {},
   "outputs": [],
   "source": [
    "data['袖型'] = np.nan\n",
    "\n",
    "for column in ['字段6','字段11','字段13','字段18']:\n",
    "    for i,v in enumerate(data[column]):\n",
    "        if '袖型' in v:\n",
    "            index = v.index(\"：\")\n",
    "            mes = v[index+1:]\n",
    "            data['袖型'][i] = mes"
   ]
  },
  {
   "cell_type": "code",
   "execution_count": 12,
   "metadata": {},
   "outputs": [],
   "source": [
    "data['袖长'] = np.nan\n",
    "\n",
    "for column in ['字段9','字段10','字段13','字段18']:\n",
    "    for i,v in enumerate(data[column]):\n",
    "        if '袖长' in v:\n",
    "            index = v.index(\"：\")\n",
    "            mes = v[index+1:]\n",
    "            data['袖长'][i] = mes"
   ]
  },
  {
   "cell_type": "code",
   "execution_count": 13,
   "metadata": {},
   "outputs": [],
   "source": [
    "data['图案'] = np.nan\n",
    "\n",
    "for column in ['字段4','字段14']:\n",
    "    for i,v in enumerate(data[column]):\n",
    "        if '图案' in v:\n",
    "            index = v.index(\"：\")\n",
    "            mes = v[index+1:]\n",
    "            data['图案'][i] = mes"
   ]
  },
  {
   "cell_type": "code",
   "execution_count": 14,
   "metadata": {},
   "outputs": [],
   "source": [
    "data['风格'] = np.nan\n",
    "\n",
    "for column in ['字段9','字段16']:\n",
    "    for i,v in enumerate(data[column]):\n",
    "        if '风格' in v:\n",
    "            index = v.index(\"：\")\n",
    "            mes = v[index+1:]\n",
    "            data['风格'][i] = mes"
   ]
  },
  {
   "cell_type": "code",
   "execution_count": 15,
   "metadata": {},
   "outputs": [],
   "source": [
    "data['厚度'] = np.nan\n",
    "\n",
    "for column in ['字段9','字段16']:\n",
    "    for i,v in enumerate(data[column]):\n",
    "        if '厚度' in v:\n",
    "            index = v.index(\"：\")\n",
    "            mes = v[index+1:]\n",
    "            data['厚度'][i] = mes"
   ]
  },
  {
   "cell_type": "code",
   "execution_count": 16,
   "metadata": {},
   "outputs": [],
   "source": [
    "data['填充物'] = np.nan\n",
    "\n",
    "for column in ['字段4','字段9','字段10']:\n",
    "    for i,v in enumerate(data[column]):\n",
    "        if '填充物' in v:\n",
    "            index = v.index(\"：\")\n",
    "            mes = v[index+1:]\n",
    "            data['填充物'][i] = mes"
   ]
  },
  {
   "cell_type": "code",
   "execution_count": 17,
   "metadata": {},
   "outputs": [],
   "source": [
    "data['版型'] = np.nan\n",
    "\n",
    "for column in ['字段5','字段6','字段9','字段11','字段14','字段18']:\n",
    "    for i,v in enumerate(data[column]):\n",
    "        if '版型' in v:\n",
    "            index = v.index(\"：\")\n",
    "            mes = v[index+1:]\n",
    "            data['版型'][i] = mes"
   ]
  },
  {
   "cell_type": "code",
   "execution_count": 18,
   "metadata": {},
   "outputs": [],
   "source": [
    "data['面料'] = np.nan\n",
    "\n",
    "for column in ['字段5','字段9','字段10','字段13']:\n",
    "    for i,v in enumerate(data[column]):\n",
    "        if '面料' in v:\n",
    "            index = v.index(\"：\")\n",
    "            mes = v[index+1:]\n",
    "            data['面料'][i] = mes"
   ]
  },
  {
   "cell_type": "code",
   "execution_count": 19,
   "metadata": {},
   "outputs": [],
   "source": [
    "for i,v in enumerate(data['评价数']):\n",
    "    if '+' in v:\n",
    "        index = v.index(\"+\")\n",
    "        mes = v[:index]\n",
    "        data['评价数'][i] = mes\n",
    "    else:\n",
    "        data['评价数'][i] = 0"
   ]
  },
  {
   "cell_type": "code",
   "execution_count": 20,
   "metadata": {},
   "outputs": [],
   "source": [
    "old_columns = old_columns.drop(['字段19'])"
   ]
  },
  {
   "cell_type": "code",
   "execution_count": 21,
   "metadata": {},
   "outputs": [],
   "source": [
    "data = data.drop(columns=old_columns)\n",
    "data.rename(columns={'字段19':'价格'},inplace=True)"
   ]
  },
  {
   "cell_type": "code",
   "execution_count": 22,
   "metadata": {},
   "outputs": [],
   "source": [
    "data.to_excel(\"C:/Users/zhang/Desktop/清洗后_羽绒服女-京东.xlsx\",index = False)"
   ]
  },
  {
   "cell_type": "code",
   "execution_count": null,
   "metadata": {},
   "outputs": [],
   "source": []
  }
 ],
 "metadata": {
  "kernelspec": {
   "display_name": "Python 3",
   "language": "python",
   "name": "python3"
  },
  "language_info": {
   "codemirror_mode": {
    "name": "ipython",
    "version": 3
   },
   "file_extension": ".py",
   "mimetype": "text/x-python",
   "name": "python",
   "nbconvert_exporter": "python",
   "pygments_lexer": "ipython3",
   "version": "3.7.3"
  }
 },
 "nbformat": 4,
 "nbformat_minor": 2
}
