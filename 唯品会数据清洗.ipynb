{
 "cells": [
  {
   "cell_type": "code",
   "execution_count": 11,
   "metadata": {},
   "outputs": [],
   "source": [
    "import pandas as pd\n",
    "import numpy as np\n",
    "import warnings\n",
    "warnings.filterwarnings(action=\"ignore\")\n",
    "warnings.filterwarnings(\"ignore\")"
   ]
  },
  {
   "cell_type": "code",
   "execution_count": 12,
   "metadata": {},
   "outputs": [],
   "source": [
    "data = pd.read_excel(\"C:/Users/zhang/Desktop/原始数据_唯品会-羽绒服女.xlsx\")"
   ]
  },
  {
   "cell_type": "code",
   "execution_count": 13,
   "metadata": {},
   "outputs": [
    {
     "data": {
      "text/html": [
       "<div>\n",
       "<style scoped>\n",
       "    .dataframe tbody tr th:only-of-type {\n",
       "        vertical-align: middle;\n",
       "    }\n",
       "\n",
       "    .dataframe tbody tr th {\n",
       "        vertical-align: top;\n",
       "    }\n",
       "\n",
       "    .dataframe thead th {\n",
       "        text-align: right;\n",
       "    }\n",
       "</style>\n",
       "<table border=\"1\" class=\"dataframe\">\n",
       "  <thead>\n",
       "    <tr style=\"text-align: right;\">\n",
       "      <th></th>\n",
       "      <th>标题链接</th>\n",
       "      <th>inner-exclusive</th>\n",
       "      <th>goods-discount-wrap</th>\n",
       "      <th>商品价格</th>\n",
       "      <th>原价</th>\n",
       "      <th>字段1</th>\n",
       "      <th>字段2</th>\n",
       "      <th>字段3</th>\n",
       "      <th>字段4</th>\n",
       "      <th>字段5</th>\n",
       "      <th>字段6</th>\n",
       "    </tr>\n",
       "  </thead>\n",
       "  <tbody>\n",
       "    <tr>\n",
       "      <th>0</th>\n",
       "      <td>https://detail.vip.com/detail-1710614451-69183...</td>\n",
       "      <td>快抢价                        ¥159</td>\n",
       "      <td>¥799                        2.0折</td>\n",
       "      <td>¥799</td>\n",
       "      <td>¥2899</td>\n",
       "      <td>常规</td>\n",
       "      <td>纯色</td>\n",
       "      <td>中国</td>\n",
       "      <td>通勤</td>\n",
       "      <td>2019秋</td>\n",
       "      <td>连帽</td>\n",
       "    </tr>\n",
       "    <tr>\n",
       "      <th>1</th>\n",
       "      <td>https://detail.vip.com/detail-1710615368-69184...</td>\n",
       "      <td>快抢价                        ¥99</td>\n",
       "      <td>¥699                        1.4折</td>\n",
       "      <td>¥699</td>\n",
       "      <td>¥2899</td>\n",
       "      <td>唯品专供款</td>\n",
       "      <td>短</td>\n",
       "      <td>雪中飞</td>\n",
       "      <td>收口袖</td>\n",
       "      <td>无弹</td>\n",
       "      <td>开衫</td>\n",
       "    </tr>\n",
       "    <tr>\n",
       "      <th>2</th>\n",
       "      <td>https://detail.vip.com/detail-1710613157-69179...</td>\n",
       "      <td>疯抢价                        ¥156</td>\n",
       "      <td>¥699                        2.2折</td>\n",
       "      <td>¥699</td>\n",
       "      <td>¥2899</td>\n",
       "      <td>休闲,时尚</td>\n",
       "      <td>字母</td>\n",
       "      <td>面料：100%聚酯纤维，里料：100%聚酯纤维，填充物1:100%聚酯纤维，填充物2：灰鸭绒...</td>\n",
       "      <td>休闲</td>\n",
       "      <td>无弹</td>\n",
       "      <td>开衫,连帽</td>\n",
       "    </tr>\n",
       "    <tr>\n",
       "      <th>3</th>\n",
       "      <td>https://detail.vip.com/detail-1710751220-69184...</td>\n",
       "      <td>疯抢价                        ¥299</td>\n",
       "      <td>¥1988                        1.5折</td>\n",
       "      <td>¥1988</td>\n",
       "      <td>¥2899</td>\n",
       "      <td>专柜同款,主推款</td>\n",
       "      <td>中长</td>\n",
       "      <td>super.natural</td>\n",
       "      <td>常规</td>\n",
       "      <td>无弹</td>\n",
       "      <td>连帽</td>\n",
       "    </tr>\n",
       "    <tr>\n",
       "      <th>4</th>\n",
       "      <td>https://detail.vip.com/detail-1710613492-69184...</td>\n",
       "      <td>快抢价                        ¥321</td>\n",
       "      <td>¥1509                        2.1折</td>\n",
       "      <td>¥1509</td>\n",
       "      <td>¥2899</td>\n",
       "      <td>线上专供款</td>\n",
       "      <td>中长</td>\n",
       "      <td>白鸭绒19新款反季外套纯色设计感小众轻熟风亮面羽绒服女装外套</td>\n",
       "      <td>常规</td>\n",
       "      <td>无弹</td>\n",
       "      <td>连帽</td>\n",
       "    </tr>\n",
       "  </tbody>\n",
       "</table>\n",
       "</div>"
      ],
      "text/plain": [
       "                                                标题链接  \\\n",
       "0  https://detail.vip.com/detail-1710614451-69183...   \n",
       "1  https://detail.vip.com/detail-1710615368-69184...   \n",
       "2  https://detail.vip.com/detail-1710613157-69179...   \n",
       "3  https://detail.vip.com/detail-1710751220-69184...   \n",
       "4  https://detail.vip.com/detail-1710613492-69184...   \n",
       "\n",
       "                   inner-exclusive                goods-discount-wrap   商品价格  \\\n",
       "0  快抢价                        ¥159   ¥799                        2.0折   ¥799   \n",
       "1   快抢价                        ¥99   ¥699                        1.4折   ¥699   \n",
       "2  疯抢价                        ¥156   ¥699                        2.2折   ¥699   \n",
       "3  疯抢价                        ¥299  ¥1988                        1.5折  ¥1988   \n",
       "4  快抢价                        ¥321  ¥1509                        2.1折  ¥1509   \n",
       "\n",
       "      原价       字段1 字段2                                                字段3  \\\n",
       "0  ¥2899        常规  纯色                                                 中国   \n",
       "1  ¥2899     唯品专供款   短                                                雪中飞   \n",
       "2  ¥2899     休闲,时尚  字母  面料：100%聚酯纤维，里料：100%聚酯纤维，填充物1:100%聚酯纤维，填充物2：灰鸭绒...   \n",
       "3  ¥2899  专柜同款,主推款  中长                                      super.natural   \n",
       "4  ¥2899     线上专供款  中长                     白鸭绒19新款反季外套纯色设计感小众轻熟风亮面羽绒服女装外套   \n",
       "\n",
       "   字段4    字段5    字段6  \n",
       "0   通勤  2019秋     连帽  \n",
       "1  收口袖     无弹     开衫  \n",
       "2   休闲     无弹  开衫,连帽  \n",
       "3   常规     无弹     连帽  \n",
       "4   常规     无弹     连帽  "
      ]
     },
     "execution_count": 13,
     "metadata": {},
     "output_type": "execute_result"
    }
   ],
   "source": [
    "data.head()"
   ]
  },
  {
   "cell_type": "code",
   "execution_count": 14,
   "metadata": {},
   "outputs": [
    {
     "data": {
      "text/plain": [
       "Index(['标题链接', 'inner-exclusive', 'goods-discount-wrap', '商品价格', '原价', '字段1',\n",
       "       '字段2', '字段3', '字段4', '字段5', '字段6'],\n",
       "      dtype='object')"
      ]
     },
     "execution_count": 14,
     "metadata": {},
     "output_type": "execute_result"
    }
   ],
   "source": [
    "data.columns"
   ]
  },
  {
   "cell_type": "code",
   "execution_count": 15,
   "metadata": {},
   "outputs": [],
   "source": [
    "data = data.drop(columns=['标题链接'])"
   ]
  },
  {
   "cell_type": "code",
   "execution_count": 16,
   "metadata": {},
   "outputs": [],
   "source": [
    "for column in data.columns:\n",
    "    data[column] = data[column].astype(str)"
   ]
  },
  {
   "cell_type": "code",
   "execution_count": 17,
   "metadata": {},
   "outputs": [],
   "source": [
    "addrs = ['浙江','广东','杭州','深圳','福建','常熟','上海','北京','济南','杭州','逸阳','广州','宁波']\n",
    "data['产地'] = np.nan\n",
    "data['产地'] = data['产地'].astype(str)\n",
    "\n",
    "for addr in addrs:\n",
    "    for column in data.columns:\n",
    "        for i,v in enumerate(data[column]):\n",
    "            if addr in v:\n",
    "                data['产地'][i] = addr\n",
    "                \n",
    "for column in data.columns:\n",
    "    for i,v in enumerate(data[column]):\n",
    "        if ('中国' in v) and (data['产地'][i] == np.nan):\n",
    "            data['产地'][i] = '中国'"
   ]
  },
  {
   "cell_type": "code",
   "execution_count": 18,
   "metadata": {},
   "outputs": [],
   "source": [
    "years = ['2017','2017春','2017夏','2017秋','2017冬','2018','2018春','2018夏','2018秋','2018冬','2019','2019春','2019夏','2019秋','2019冬']\n",
    "data['年份'] = np.nan\n",
    "data['年份'] = data['年份'].astype(str)\n",
    "\n",
    "for year in years:\n",
    "    for column in data.columns:\n",
    "        for i,v in enumerate(data[column]):\n",
    "            if year in v:\n",
    "                data['年份'][i] = year"
   ]
  },
  {
   "cell_type": "code",
   "execution_count": 19,
   "metadata": {},
   "outputs": [],
   "source": [
    "data['新款'] = np.nan\n",
    "data['新款'] = data['新款'].astype(str)\n",
    "\n",
    "for column in data.columns:\n",
    "    for i,v in enumerate(data[column]):\n",
    "        if '新款' in v:\n",
    "            data['新款'][i] = '新款'"
   ]
  },
  {
   "cell_type": "code",
   "execution_count": 20,
   "metadata": {},
   "outputs": [],
   "source": [
    "data['衣长'] = np.nan\n",
    "data['衣长'] = data['衣长'].astype(str)\n",
    "\n",
    "for column in data.columns:\n",
    "    for i,v in enumerate(data[column]):\n",
    "        if '中长' in v:\n",
    "            data['衣长'][i] = '中长款'\n",
    "        elif '长' in v:\n",
    "            data['衣长'][i] = '长款'\n",
    "        elif '短' in v:\n",
    "            data['衣长'][i] = '短款'"
   ]
  },
  {
   "cell_type": "code",
   "execution_count": 21,
   "metadata": {},
   "outputs": [],
   "source": [
    "data['袖型'] = np.nan\n",
    "data['袖型'] = data['袖型'].astype(str)\n",
    "\n",
    "for column in data.columns:\n",
    "    for i,v in enumerate(data[column]):\n",
    "        if '常规' in v:\n",
    "            data['袖型'][i] = '常规'"
   ]
  },
  {
   "cell_type": "code",
   "execution_count": 22,
   "metadata": {},
   "outputs": [],
   "source": [
    "patterns = ['纯色','大花','动物','格子','卡通动漫','迷彩','其它','手绘','条纹']\n",
    "data['图案'] = np.nan\n",
    "data['图案'] = data['图案'].astype(str)\n",
    "\n",
    "for pattern in patterns:\n",
    "    for column in data.columns:\n",
    "        for i,v in enumerate(data[column]):\n",
    "            if pattern in v:\n",
    "                data['图案'][i] = pattern"
   ]
  },
  {
   "cell_type": "code",
   "execution_count": 23,
   "metadata": {},
   "outputs": [],
   "source": [
    "styles = ['连帽','连帽,外套','连帽,套头','连帽,开衫','连帽,可脱卸','开衫','开衫,连帽',\\\n",
    "          '开衫,连帽,直筒型','开衫,连帽,连帽可脱卸','开衫,连帽可脱卸']\n",
    "data['款式'] = np.nan\n",
    "data['款式'] = data['款式'].astype(str)\n",
    "\n",
    "for style in styles:\n",
    "    for column in data.columns:\n",
    "        for i,v in enumerate(data[column]):\n",
    "            if style in v:\n",
    "                    data['款式'][i] = style"
   ]
  },
  {
   "cell_type": "code",
   "execution_count": 24,
   "metadata": {},
   "outputs": [],
   "source": [
    "data['折扣'] = np.nan\n",
    "data['折扣'] = data['折扣'].astype(str)\n",
    "\n",
    "for i,v in enumerate(data['goods-discount-wrap']):\n",
    "    if '.' in v:\n",
    "        index = v.index(\".\")\n",
    "        mes = v[index-1:]\n",
    "        data['折扣'][i] = mes\n",
    "    else:\n",
    "        pass\n",
    "\n",
    "for i,v in enumerate(data['折扣']):\n",
    "    if '折' in v:\n",
    "        index = v.index(\"折\")\n",
    "        mes = v[:index]\n",
    "        data['折扣'][i] = mes\n",
    "    else:\n",
    "        pass"
   ]
  },
  {
   "cell_type": "code",
   "execution_count": 25,
   "metadata": {},
   "outputs": [
    {
     "data": {
      "text/plain": [
       "Index(['inner-exclusive', 'goods-discount-wrap', '商品价格', '原价', '字段1', '字段2',\n",
       "       '字段3', '字段4', '字段5', '字段6', '产地', '年份', '新款', '衣长', '袖型', '图案', '款式',\n",
       "       '折扣'],\n",
       "      dtype='object')"
      ]
     },
     "execution_count": 25,
     "metadata": {},
     "output_type": "execute_result"
    }
   ],
   "source": [
    "data.columns"
   ]
  },
  {
   "cell_type": "code",
   "execution_count": 27,
   "metadata": {},
   "outputs": [],
   "source": [
    "data = data.drop(columns=['inner-exclusive','goods-discount-wrap','原价','字段1','字段2','字段3','字段4','字段5','字段6'])"
   ]
  },
  {
   "cell_type": "code",
   "execution_count": 29,
   "metadata": {},
   "outputs": [],
   "source": [
    "data.to_excel(\"C:/Users/zhang/Desktop/清洗后_羽绒服女-唯品会.xlsx\",index = False)"
   ]
  },
  {
   "cell_type": "code",
   "execution_count": null,
   "metadata": {},
   "outputs": [],
   "source": []
  }
 ],
 "metadata": {
  "kernelspec": {
   "display_name": "Python 3",
   "language": "python",
   "name": "python3"
  },
  "language_info": {
   "codemirror_mode": {
    "name": "ipython",
    "version": 3
   },
   "file_extension": ".py",
   "mimetype": "text/x-python",
   "name": "python",
   "nbconvert_exporter": "python",
   "pygments_lexer": "ipython3",
   "version": "3.7.3"
  }
 },
 "nbformat": 4,
 "nbformat_minor": 2
}
